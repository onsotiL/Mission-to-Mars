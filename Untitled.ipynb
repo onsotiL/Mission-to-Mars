{
 "cells": [
  {
   "cell_type": "code",
   "execution_count": 7,
   "id": "87e84294",
   "metadata": {},
   "outputs": [],
   "source": [
    "#use Flask and Mongo to begin creating Robin's web app\n",
    "from flask import Flask, render_template, redirect, url_for\n",
    "from flask_pymongo import PyMongo\n",
    "import scraping\n",
    "\n"
   ]
  },
  {
   "cell_type": "code",
   "execution_count": 8,
   "id": "0f1c69f9",
   "metadata": {},
   "outputs": [],
   "source": [
    "#set up Flask:\n",
    "app = Flask(__name__)\n",
    "\n",
    "# tell Python how to connect to Mongo using PyMongo.\n",
    "# Use flask_pymongo to set up mongo connection\n",
    "app.config[\"MONGO_URI\"] = \"mongodb://localhost:27017/mars_app\"\n",
    "mongo = PyMongo(app)\n"
   ]
  },
  {
   "cell_type": "code",
   "execution_count": 9,
   "id": "a7a2d0b3",
   "metadata": {},
   "outputs": [],
   "source": [
    "#set up our Flask routes(Flask routes bind URLs to functions)\n",
    "#one for the main HTML page everyone will view when visiting the web app\n",
    "#one to scrape new data using the code we've written.\n",
    "# EG:  URL \"ourpage.com/\" brings us to  homepage of our web app.\n",
    "# URL \"ourpage.com/scrape\" will activate the scraping code.\n",
    "\n",
    "#define the route for the HTML\n",
    "#This function  links our visual representation of our work, our web app, to the code that powers it.\n",
    "@app.route(\"/\") # tells Flask what to display when looking at the home page,\n",
    "def index():\n",
    "    #within this 1. use pymomgo to find mars collection in database & assign path to mars varaible\n",
    "               # 2. return an HTML template using an index.html file.\n",
    "               # mars=mars) tells Python to use the \"mars\" collection in MongoDB.\n",
    "   mars = mongo.db.mars.find_one()\n",
    "   return render_template(\"index.html\", mars=mars) "
   ]
  },
  {
   "cell_type": "code",
   "execution_count": 10,
   "id": "fb1fd7ec",
   "metadata": {},
   "outputs": [],
   "source": [
    "#set up our scraping route\n",
    "#this  route will be the \"button\" of the web application\n",
    "#it will scrape updated data when we tell it to from the homepage of our web app\n",
    "@app.route(\"/scrape\")\n",
    "def scrape():\n",
    "    # within this \n",
    "   mars = mongo.db.mars\n",
    "   mars_data = scraping.scrape_all()\n",
    "   mars.update({}, mars_data, upsert=True)\n",
    "   return redirect('/', code=302)"
   ]
  },
  {
   "cell_type": "code",
   "execution_count": 11,
   "id": "f33e437a",
   "metadata": {},
   "outputs": [
    {
     "ename": "NameError",
     "evalue": "name 'mars' is not defined",
     "output_type": "error",
     "traceback": [
      "\u001b[1;31m---------------------------------------------------------------------------\u001b[0m",
      "\u001b[1;31mNameError\u001b[0m                                 Traceback (most recent call last)",
      "\u001b[1;32m<ipython-input-11-88d791c63b5c>\u001b[0m in \u001b[0;36m<module>\u001b[1;34m\u001b[0m\n\u001b[0;32m      1\u001b[0m \u001b[1;31m#Now that we've gathered new data, we need to update the database using .update().\u001b[0m\u001b[1;33m\u001b[0m\u001b[1;33m\u001b[0m\u001b[1;33m\u001b[0m\u001b[0m\n\u001b[0;32m      2\u001b[0m \u001b[1;33m\u001b[0m\u001b[0m\n\u001b[1;32m----> 3\u001b[1;33m \u001b[0mmars\u001b[0m\u001b[1;33m.\u001b[0m\u001b[0mupdate\u001b[0m\u001b[1;33m(\u001b[0m\u001b[1;33m{\u001b[0m\u001b[1;33m}\u001b[0m\u001b[1;33m,\u001b[0m \u001b[0mmars_data\u001b[0m\u001b[1;33m,\u001b[0m \u001b[0mupsert\u001b[0m\u001b[1;33m=\u001b[0m\u001b[1;32mTrue\u001b[0m\u001b[1;33m)\u001b[0m\u001b[1;33m\u001b[0m\u001b[1;33m\u001b[0m\u001b[0m\n\u001b[0m",
      "\u001b[1;31mNameError\u001b[0m: name 'mars' is not defined"
     ]
    }
   ],
   "source": [
    "#Now that we've gathered new data, we need to update the database using .update().\n",
    "\n",
    "mars.update({}, mars_data, upsert=True)"
   ]
  },
  {
   "cell_type": "code",
   "execution_count": null,
   "id": "102cedc9",
   "metadata": {},
   "outputs": [],
   "source": []
  },
  {
   "cell_type": "code",
   "execution_count": null,
   "id": "411b24e0",
   "metadata": {},
   "outputs": [],
   "source": []
  },
  {
   "cell_type": "code",
   "execution_count": null,
   "id": "aedcdbc0",
   "metadata": {},
   "outputs": [],
   "source": []
  }
 ],
 "metadata": {
  "kernelspec": {
   "display_name": "Python 3",
   "language": "python",
   "name": "python3"
  },
  "language_info": {
   "codemirror_mode": {
    "name": "ipython",
    "version": 3
   },
   "file_extension": ".py",
   "mimetype": "text/x-python",
   "name": "python",
   "nbconvert_exporter": "python",
   "pygments_lexer": "ipython3",
   "version": "3.7.10"
  }
 },
 "nbformat": 4,
 "nbformat_minor": 5
}
